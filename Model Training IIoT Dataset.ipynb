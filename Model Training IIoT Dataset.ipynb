{
 "cells": [
  {
   "cell_type": "code",
   "execution_count": 26,
   "id": "890d74a3",
   "metadata": {},
   "outputs": [],
   "source": [
    "#  ===== -- Step 1 -- =====\n",
    "\n",
    "#  ===== -- Importing the required libraries -- =====\n",
    "import pandas as pd\n",
    "import numpy as np\n",
    "import matplotlib.pyplot as plt\n",
    "import seaborn as sns\n",
    "\n",
    "from sklearn.model_selection import train_test_split\n",
    "from sklearn.preprocessing import StandardScaler\n",
    "from sklearn.ensemble import RandomForestClassifier\n",
    "from sklearn.metrics import classification_report, confusion_matrix, accuracy_score, precision_score, recall_score, f1_score\n",
    "\n",
    "# ===== -- Adding extra model comparisons -- =====\n",
    "from xgboost import XGBClassifier\n",
    "import tensorflow as tf\n",
    "from tensorflow.keras import Sequential\n",
    "from tensorflow.keras.layers import Dense\n",
    "\n"
   ]
  },
  {
   "cell_type": "code",
   "execution_count": null,
   "id": "d65e8fc1",
   "metadata": {},
   "outputs": [
    {
     "name": "stdout",
     "output_type": "stream",
     "text": [
      "Shape: (157800, 63)\n",
      "Attack_label value counts:\n",
      "Attack_label\n",
      "1    133499\n",
      "0     24301\n",
      "Name: count, dtype: int64\n"
     ]
    }
   ],
   "source": [
    "# ===== -- Step 2 -- =====\n",
    "# ===== -- Load the dataset -- =====\n",
    "\n",
    "# Load only the first 100,000 rows to avoid memory issues, the entire dataset consumes a lot of RAM, yikes\n",
    "df = pd.read_csv('C:\\Users\\Administrator\\Documents\\data\\ML-EdgeIIoT-dataset.csv', low_memory=False)\n",
    "\n",
    "# Check shape and label distribution\n",
    "print(\"Shape:\", df.shape)\n",
    "print(\"Attack_label value counts:\")\n",
    "print(df['Attack_label'].value_counts())\n",
    "\n",
    "\n",
    "\n"
   ]
  },
  {
   "cell_type": "code",
   "execution_count": null,
   "id": "caef419b",
   "metadata": {},
   "outputs": [
    {
     "name": "stdout",
     "output_type": "stream",
     "text": [
      "After cleaning, shape: (157800, 42)\n"
     ]
    }
   ],
   "source": [
    "# ===== -- Step 3 -- =====\n",
    "# ===== -- Drop non-numeric and irrelevant columns -- =====\n",
    "\n",
    "drop_cols = [\n",
    "    'frame.time', 'ip.src_host', 'ip.dst_host',\n",
    "    'arp.dst.proto_ipv4', 'arp.src.proto_ipv4', 'arp.opcode', 'arp.hw.size',\n",
    "    'http.file_data', 'http.request.uri.query', 'http.request.method', 'http.referer', \n",
    "    'http.request.full_uri', 'http.request.version', 'tcp.options', 'tcp.payload',\n",
    "    'dns.qry.name.len', 'mqtt.conack.flags', 'mqtt.msg', 'mqtt.protoname', 'mqtt.topic',\n",
    "    'Attack_type'  # this one is the multiclass column we are not using for binary classification\n",
    "]\n",
    "\n",
    "# Drop any columns that exist in the dataset to avoid confusion with the training later, with XGBoost\n",
    "df_clean = df.drop(columns=[col for col in drop_cols if col in df.columns])\n",
    "\n",
    "# Drop rows with NaN, inf, or -inf\n",
    "df_clean.replace([np.inf, -np.inf], np.nan, inplace=True)\n",
    "df_clean.dropna(inplace=True)\n",
    "\n",
    "# Confirm new shape after cleaning\n",
    "print(\"After cleaning, shape:\", df_clean.shape)\n"
   ]
  },
  {
   "cell_type": "code",
   "execution_count": null,
   "id": "2c900733",
   "metadata": {},
   "outputs": [
    {
     "name": "stdout",
     "output_type": "stream",
     "text": [
      "Non-numeric columns to drop: ['tcp.srcport']\n",
      "\n",
      "Remaining types in df_clean:\n",
      " float64    40\n",
      "int64       1\n",
      "Name: count, dtype: int64\n"
     ]
    }
   ],
   "source": [
    "# After long hustle we do an absolute cleaning to kill ALL string/label issues (this one must run BEFORE splitting X and y)\n",
    "\n",
    "# Drop any object (string/categorical) columns if they exist\n",
    "non_numeric_cols = df_clean.select_dtypes(include=['object']).columns.tolist()\n",
    "\n",
    "print(\"Non-numeric columns to drop:\", non_numeric_cols)\n",
    "\n",
    "# Drop them from df_clean\n",
    "df_clean = df_clean.drop(columns=non_numeric_cols)\n",
    "\n",
    "# Confirm it's all numeric now\n",
    "print(\"\\nRemaining types in df_clean:\\n\", df_clean.dtypes.value_counts())\n"
   ]
  },
  {
   "cell_type": "code",
   "execution_count": 47,
   "id": "76fad2a6",
   "metadata": {},
   "outputs": [
    {
     "name": "stdout",
     "output_type": "stream",
     "text": [
      "Features shape: (157800, 40)\n",
      "Target shape:   (157800,)\n",
      "\n",
      "Class distribution (Train):\n",
      " Attack_label\n",
      "1    90779\n",
      "0    16525\n",
      "Name: count, dtype: int64\n",
      "Class distribution (Val):\n",
      " Attack_label\n",
      "1    22695\n",
      "0     4131\n",
      "Name: count, dtype: int64\n",
      "Class distribution (Test):\n",
      " Attack_label\n",
      "1    20025\n",
      "0     3645\n",
      "Name: count, dtype: int64\n",
      "\n",
      "Train shape:     (107304, 40)\n",
      "Validation shape:(26826, 40)\n",
      "Test shape:      (23670, 40)\n"
     ]
    }
   ],
   "source": [
    "# ===== -- Step 4: Split into Features and Labels -- =====\n",
    "\n",
    "# Separate features (X) and label (y)\n",
    "X = df_clean.drop(columns=['Attack_label'])\n",
    "y = df_clean['Attack_label']\n",
    "\n",
    "# Confirm shapes\n",
    "print(\"Features shape:\", X.shape)\n",
    "print(\"Target shape:  \", y.shape)\n",
    "\n",
    "# ===== -- Step 5: Split into Train, Validation, and Test sets -- =====\n",
    "\n",
    "# First, split into 85% train+val and 15% test\n",
    "X_temp, X_test, y_temp, y_test = train_test_split(\n",
    "    X, y,\n",
    "    test_size=0.15,\n",
    "    stratify=y,\n",
    "    random_state=42\n",
    ")\n",
    "\n",
    "# Then split the temp set into 80% train and 20% val (which becomes 68% train, 17% val total)\n",
    "X_train, X_val, y_train, y_val = train_test_split(\n",
    "    X_temp, y_temp,\n",
    "    test_size=0.2,\n",
    "    stratify=y_temp,\n",
    "    random_state=42\n",
    ")\n",
    "\n",
    "# Confirm distributions\n",
    "print(\"\\nClass distribution (Train):\\n\", y_train.value_counts())\n",
    "print(\"Class distribution (Val):\\n\", y_val.value_counts())\n",
    "print(\"Class distribution (Test):\\n\", y_test.value_counts())\n",
    "\n",
    "# Print shapes\n",
    "print(f\"\\nTrain shape:     {X_train.shape}\")\n",
    "print(f\"Validation shape:{X_val.shape}\")\n",
    "print(f\"Test shape:      {X_test.shape}\")\n"
   ]
  },
  {
   "cell_type": "code",
   "execution_count": 30,
   "id": "8868728d",
   "metadata": {},
   "outputs": [
    {
     "name": "stdout",
     "output_type": "stream",
     "text": [
      "Train shape: (140080, 40)\n",
      "Val shape: (29920, 40)\n",
      "Test shape: (30000, 40)\n"
     ]
    }
   ],
   "source": [
    "# Split into Train (70%), Validation (15%), and Test (15%)\n",
    "X_temp, X_test, y_temp, y_test = train_test_split(X, y, test_size=0.15, stratify=y, random_state=42)\n",
    "X_train, X_val, y_train, y_val = train_test_split(X_temp, y_temp, test_size=0.176, stratify=y_temp, random_state=42)\n",
    "\n",
    "# Standard scaling\n",
    "scaler = StandardScaler()\n",
    "X_train_scaled = scaler.fit_transform(X_train)\n",
    "X_val_scaled   = scaler.transform(X_val)\n",
    "X_test_scaled  = scaler.transform(X_test)\n",
    "\n",
    "print(\"Train shape:\", X_train.shape)\n",
    "print(\"Val shape:\", X_val.shape)\n",
    "print(\"Test shape:\", X_test.shape)\n"
   ]
  },
  {
   "cell_type": "code",
   "execution_count": 49,
   "id": "7354ea7c",
   "metadata": {},
   "outputs": [
    {
     "name": "stdout",
     "output_type": "stream",
     "text": [
      "Scaling complete. Shapes:\n",
      "Train: (107304, 40)\n",
      "Val:   (26826, 40)\n",
      "Test:  (23670, 40)\n",
      "✅ Scaling done.\n"
     ]
    }
   ],
   "source": [
    "# ===== -- Step 6: Standardize the features -- =====\n",
    "\n",
    "scaler = StandardScaler()\n",
    "\n",
    "# Fit on training set and transform all sets\n",
    "X_train_scaled = scaler.fit_transform(X_train)\n",
    "X_val_scaled   = scaler.transform(X_val)\n",
    "X_test_scaled  = scaler.transform(X_test)\n",
    "\n",
    "# Confirm the transformation\n",
    "print(\"Scaling complete. Shapes:\")\n",
    "print(\"Train:\", X_train_scaled.shape)\n",
    "print(\"Val:  \", X_val_scaled.shape)\n",
    "print(\"Test: \", X_test_scaled.shape)\n",
    "print(\"✅ Scaling done.\")\n"
   ]
  },
  {
   "cell_type": "code",
   "execution_count": 41,
   "id": "4681b6f7",
   "metadata": {},
   "outputs": [
    {
     "name": "stdout",
     "output_type": "stream",
     "text": [
      "float64    40\n",
      "object      1\n",
      "Name: count, dtype: int64\n"
     ]
    }
   ],
   "source": [
    "print(X.dtypes.value_counts())\n"
   ]
  },
  {
   "cell_type": "code",
   "execution_count": 42,
   "id": "7bb5693c",
   "metadata": {},
   "outputs": [
    {
     "name": "stdout",
     "output_type": "stream",
     "text": [
      "\n",
      "Non-numeric columns in X:\n",
      "['tcp.srcport']\n"
     ]
    }
   ],
   "source": [
    "print(\"\\nNon-numeric columns in X:\")\n",
    "print(X.select_dtypes(exclude=['number']).columns.tolist())\n",
    "\n"
   ]
  },
  {
   "cell_type": "code",
   "execution_count": 43,
   "id": "eb5203cd",
   "metadata": {},
   "outputs": [
    {
     "name": "stdout",
     "output_type": "stream",
     "text": [
      "Dropping extra columns: ['tcp.srcport']\n"
     ]
    }
   ],
   "source": [
    "# Extra cleaning — drop any text-based columns we missed\n",
    "more_non_numeric = X.select_dtypes(exclude=['number']).columns.tolist()\n",
    "print(\"Dropping extra columns:\", more_non_numeric)\n",
    "X = X.drop(columns=more_non_numeric)\n"
   ]
  },
  {
   "cell_type": "code",
   "execution_count": null,
   "id": "22932c96",
   "metadata": {},
   "outputs": [
    {
     "name": "stdout",
     "output_type": "stream",
     "text": [
      "🔍 Random Forest Validation Accuracy: 0.9944084097517334\n",
      "\n",
      "📊 Classification Report (Random Forest):\n",
      "              precision    recall  f1-score   support\n",
      "\n",
      "           0     0.9835    0.9802    0.9818      4131\n",
      "           1     0.9964    0.9970    0.9967     22695\n",
      "\n",
      "    accuracy                         0.9944     26826\n",
      "   macro avg     0.9899    0.9886    0.9893     26826\n",
      "weighted avg     0.9944    0.9944    0.9944     26826\n",
      "\n"
     ]
    },
    {
     "data": {
      "image/png": "[encoded data removed]",
      "text/plain": [
       "<Figure size 500x400 with 2 Axes>"
      ]
     },
     "metadata": {},
     "output_type": "display_data"
    }
   ],
   "source": [
    "# ===== -- Step 7: Train & Evaluate Random Forest -- =====\n",
    "\n",
    "# Initialize Random Forest classifier\n",
    "rf = RandomForestClassifier(n_estimators=100, random_state=42)\n",
    "\n",
    "# Train on scaled training data\n",
    "rf.fit(X_train_scaled, y_train)\n",
    "\n",
    "# Predict on validation set\n",
    "y_val_pred_rf = rf.predict(X_val_scaled)\n",
    "\n",
    "# Evaluate performance\n",
    "print(\"🔍 Random Forest Validation Accuracy:\", accuracy_score(y_val, y_val_pred_rf))\n",
    "print(\"\\n📊 Classification Report (Random Forest):\")\n",
    "print(classification_report(y_val, y_val_pred_rf, digits=4))\n",
    "\n",
    "# Plot confusion matrix\n",
    "cm = confusion_matrix(y_val, y_val_pred_rf)\n",
    "plt.figure(figsize=(5,4))\n",
    "sns.heatmap(cm, annot=True, fmt='d', cmap='Blues', xticklabels=['Normal','Attack'], yticklabels=['Normal','Attack'])\n",
    "plt.title(\"Random Forest – Confusion Matrix\")\n",
    "plt.xlabel(\"Predicted\")\n",
    "plt.ylabel(\"Actual\")\n",
    "plt.tight_layout()\n",
    "plt.show()\n"
   ]
  },
  {
   "cell_type": "code",
   "execution_count": 13,
   "id": "e3fcf540",
   "metadata": {},
   "outputs": [
    {
     "name": "stdout",
     "output_type": "stream",
     "text": [
      "Train labels:\n",
      " Attack_label\n",
      "0    70040\n",
      "Name: count, dtype: int64\n",
      "Validation labels:\n",
      " Attack_label\n",
      "0    14960\n",
      "Name: count, dtype: int64\n",
      "Test labels:\n",
      " Attack_label\n",
      "0    15000\n",
      "Name: count, dtype: int64\n"
     ]
    }
   ],
   "source": [
    "print(\"Train labels:\\n\", y_train.value_counts())\n",
    "print(\"Validation labels:\\n\", y_val.value_counts())\n",
    "print(\"Test labels:\\n\", y_test.value_counts())\n"
   ]
  },
  {
   "cell_type": "code",
   "execution_count": null,
   "id": "ea7ea7ab",
   "metadata": {},
   "outputs": [
    {
     "name": "stderr",
     "output_type": "stream",
     "text": [
      "d:\\Business\\Writing\\Writing\\Joan\\Edge-IIoT Project\\venv\\Lib\\site-packages\\xgboost\\training.py:183: UserWarning: [18:12:20] WARNING: C:\\actions-runner\\_work\\xgboost\\xgboost\\src\\learner.cc:738: \n",
      "Parameters: { \"use_label_encoder\" } are not used.\n",
      "\n",
      "  bst.update(dtrain, iteration=i, fobj=obj)\n"
     ]
    },
    {
     "name": "stdout",
     "output_type": "stream",
     "text": [
      "🔍 XGBoost Validation Accuracy: 0.9942965779467681\n",
      "\n",
      "📊 Classification Report (XGBoost):\n",
      "              precision    recall  f1-score   support\n",
      "\n",
      "           0     0.9825    0.9804    0.9815      4131\n",
      "           1     0.9964    0.9968    0.9966     22695\n",
      "\n",
      "    accuracy                         0.9943     26826\n",
      "   macro avg     0.9895    0.9886    0.9890     26826\n",
      "weighted avg     0.9943    0.9943    0.9943     26826\n",
      "\n"
     ]
    },
    {
     "data": {
      "image/png": "[encoded data removed]",
      "text/plain": [
       "<Figure size 500x400 with 2 Axes>"
      ]
     },
     "metadata": {},
     "output_type": "display_data"
    }
   ],
   "source": [
    "# ===== -- Step 8: Train & Evaluate XGBoost -- =====\n",
    "\n",
    "# Initialize XGBoost classifier (CPU only — works fine at this scale)\n",
    "xgb = XGBClassifier(\n",
    "    n_estimators=100,\n",
    "    use_label_encoder=False,\n",
    "    eval_metric='logloss',\n",
    "    random_state=42\n",
    ")\n",
    "\n",
    "# Train on scaled training set\n",
    "xgb.fit(X_train_scaled, y_train)\n",
    "\n",
    "# Predict on validation set\n",
    "y_val_pred_xgb = xgb.predict(X_val_scaled)\n",
    "\n",
    "# Evaluate performance\n",
    "print(\"🔍 XGBoost Validation Accuracy:\", accuracy_score(y_val, y_val_pred_xgb))\n",
    "print(\"\\n📊 Classification Report (XGBoost):\")\n",
    "print(classification_report(y_val, y_val_pred_xgb, digits=4))\n",
    "\n",
    "# Plot confusion matrix\n",
    "cm_xgb = confusion_matrix(y_val, y_val_pred_xgb)\n",
    "plt.figure(figsize=(5,4))\n",
    "sns.heatmap(cm_xgb, annot=True, fmt='d', cmap='Greens', xticklabels=['Normal','Attack'], yticklabels=['Normal','Attack'])\n",
    "plt.title(\"XGBoost – Confusion Matrix\")\n",
    "plt.xlabel(\"Predicted\")\n",
    "plt.ylabel(\"Actual\")\n",
    "plt.tight_layout()\n",
    "plt.show()\n"
   ]
  },
  {
   "cell_type": "code",
   "execution_count": null,
   "id": "6660e3ab",
   "metadata": {},
   "outputs": [
    {
     "name": "stderr",
     "output_type": "stream",
     "text": [
      "d:\\Business\\Writing\\Writing\\Joan\\Edge-IIoT Project\\venv\\Lib\\site-packages\\keras\\src\\layers\\core\\dense.py:93: UserWarning: Do not pass an `input_shape`/`input_dim` argument to a layer. When using Sequential models, prefer using an `Input(shape)` object as the first layer in the model instead.\n",
      "  super().__init__(activity_regularizer=activity_regularizer, **kwargs)\n"
     ]
    },
    {
     "name": "stdout",
     "output_type": "stream",
     "text": [
      "Epoch 1/15\n",
      "\u001b[1m210/210\u001b[0m \u001b[32m━━━━━━━━━━━━━━━━━━━━\u001b[0m\u001b[37m\u001b[0m \u001b[1m13s\u001b[0m 11ms/step - accuracy: 0.8001 - loss: 0.4204 - val_accuracy: 0.9034 - val_loss: 0.2346\n",
      "Epoch 2/15\n",
      "\u001b[1m210/210\u001b[0m \u001b[32m━━━━━━━━━━━━━━━━━━━━\u001b[0m\u001b[37m\u001b[0m \u001b[1m2s\u001b[0m 9ms/step - accuracy: 0.9064 - loss: 0.2198 - val_accuracy: 0.9081 - val_loss: 0.2082\n",
      "Epoch 3/15\n",
      "\u001b[1m210/210\u001b[0m \u001b[32m━━━━━━━━━━━━━━━━━━━━\u001b[0m\u001b[37m\u001b[0m \u001b[1m1s\u001b[0m 5ms/step - accuracy: 0.9079 - loss: 0.2021 - val_accuracy: 0.9038 - val_loss: 0.2003\n",
      "Epoch 4/15\n",
      "\u001b[1m210/210\u001b[0m \u001b[32m━━━━━━━━━━━━━━━━━━━━\u001b[0m\u001b[37m\u001b[0m \u001b[1m1s\u001b[0m 6ms/step - accuracy: 0.9096 - loss: 0.1935 - val_accuracy: 0.9066 - val_loss: 0.1918\n",
      "Epoch 5/15\n",
      "\u001b[1m210/210\u001b[0m \u001b[32m━━━━━━━━━━━━━━━━━━━━\u001b[0m\u001b[37m\u001b[0m \u001b[1m1s\u001b[0m 6ms/step - accuracy: 0.9129 - loss: 0.1833 - val_accuracy: 0.9087 - val_loss: 0.1851\n",
      "Epoch 6/15\n",
      "\u001b[1m210/210\u001b[0m \u001b[32m━━━━━━━━━━━━━━━━━━━━\u001b[0m\u001b[37m\u001b[0m \u001b[1m1s\u001b[0m 5ms/step - accuracy: 0.9129 - loss: 0.1772 - val_accuracy: 0.9036 - val_loss: 0.1767\n",
      "Epoch 7/15\n",
      "\u001b[1m210/210\u001b[0m \u001b[32m━━━━━━━━━━━━━━━━━━━━\u001b[0m\u001b[37m\u001b[0m \u001b[1m1s\u001b[0m 5ms/step - accuracy: 0.9149 - loss: 0.1674 - val_accuracy: 0.9091 - val_loss: 0.1698\n",
      "Epoch 8/15\n",
      "\u001b[1m210/210\u001b[0m \u001b[32m━━━━━━━━━━━━━━━━━━━━\u001b[0m\u001b[37m\u001b[0m \u001b[1m1s\u001b[0m 6ms/step - accuracy: 0.9218 - loss: 0.1605 - val_accuracy: 0.9100 - val_loss: 0.1611\n",
      "Epoch 9/15\n",
      "\u001b[1m210/210\u001b[0m \u001b[32m━━━━━━━━━━━━━━━━━━━━\u001b[0m\u001b[37m\u001b[0m \u001b[1m1s\u001b[0m 5ms/step - accuracy: 0.9332 - loss: 0.1502 - val_accuracy: 0.9389 - val_loss: 0.1517\n",
      "Epoch 10/15\n",
      "\u001b[1m210/210\u001b[0m \u001b[32m━━━━━━━━━━━━━━━━━━━━\u001b[0m\u001b[37m\u001b[0m \u001b[1m1s\u001b[0m 6ms/step - accuracy: 0.9433 - loss: 0.1419 - val_accuracy: 0.9385 - val_loss: 0.1422\n",
      "Epoch 11/15\n",
      "\u001b[1m210/210\u001b[0m \u001b[32m━━━━━━━━━━━━━━━━━━━━\u001b[0m\u001b[37m\u001b[0m \u001b[1m1s\u001b[0m 5ms/step - accuracy: 0.9437 - loss: 0.1350 - val_accuracy: 0.9372 - val_loss: 0.1328\n",
      "Epoch 12/15\n",
      "\u001b[1m210/210\u001b[0m \u001b[32m━━━━━━━━━━━━━━━━━━━━\u001b[0m\u001b[37m\u001b[0m \u001b[1m1s\u001b[0m 5ms/step - accuracy: 0.9446 - loss: 0.1266 - val_accuracy: 0.9443 - val_loss: 0.1292\n",
      "Epoch 13/15\n",
      "\u001b[1m210/210\u001b[0m \u001b[32m━━━━━━━━━━━━━━━━━━━━\u001b[0m\u001b[37m\u001b[0m \u001b[1m1s\u001b[0m 5ms/step - accuracy: 0.9461 - loss: 0.1192 - val_accuracy: 0.9415 - val_loss: 0.1218\n",
      "Epoch 14/15\n",
      "\u001b[1m210/210\u001b[0m \u001b[32m━━━━━━━━━━━━━━━━━━━━\u001b[0m\u001b[37m\u001b[0m \u001b[1m2s\u001b[0m 6ms/step - accuracy: 0.9467 - loss: 0.1121 - val_accuracy: 0.9414 - val_loss: 0.1182\n",
      "Epoch 15/15\n",
      "\u001b[1m210/210\u001b[0m \u001b[32m━━━━━━━━━━━━━━━━━━━━\u001b[0m\u001b[37m\u001b[0m \u001b[1m1s\u001b[0m 5ms/step - accuracy: 0.9464 - loss: 0.1109 - val_accuracy: 0.9437 - val_loss: 0.1140\n",
      "\u001b[1m839/839\u001b[0m \u001b[32m━━━━━━━━━━━━━━━━━━━━\u001b[0m\u001b[37m\u001b[0m \u001b[1m3s\u001b[0m 2ms/step\n",
      "\n",
      "🔍 Neural Network Validation Accuracy: 0.9437486021024379\n",
      "\n",
      "📊 Classification Report (Neural Net):\n",
      "              precision    recall  f1-score   support\n",
      "\n",
      "           0     0.8809    0.7340    0.8007      4131\n",
      "           1     0.9530    0.9819    0.9673     22695\n",
      "\n",
      "    accuracy                         0.9437     26826\n",
      "   macro avg     0.9169    0.8579    0.8840     26826\n",
      "weighted avg     0.9419    0.9437    0.9416     26826\n",
      "\n"
     ]
    },
    {
     "data": {
      "image/png": "[encoded data removed]",
      "text/plain": [
       "<Figure size 500x400 with 2 Axes>"
      ]
     },
     "metadata": {},
     "output_type": "display_data"
    }
   ],
   "source": [
    "# ===== -- Step 9: Train & Evaluate Neural Network (Keras) -- =====\n",
    "\n",
    "from tensorflow.keras.models import Sequential\n",
    "from tensorflow.keras.layers import Dense\n",
    "from tensorflow.keras.optimizers import Adam\n",
    "from tensorflow.keras.callbacks import EarlyStopping\n",
    "\n",
    "# Build the model\n",
    "nn_model = Sequential([\n",
    "    Dense(64, activation='relu', input_shape=(X_train_scaled.shape[1],)),\n",
    "    Dense(32, activation='relu'),\n",
    "    Dense(1, activation='sigmoid')  # Output layer for binary classification\n",
    "])\n",
    "\n",
    "# Compile the model\n",
    "nn_model.compile(optimizer=Adam(learning_rate=0.001),\n",
    "                 loss='binary_crossentropy',\n",
    "                 metrics=['accuracy'])\n",
    "\n",
    "# Define early stopping to prevent overfitting\n",
    "early_stop = EarlyStopping(monitor='val_loss', patience=3, restore_best_weights=True)\n",
    "\n",
    "# Train the model\n",
    "history = nn_model.fit(\n",
    "    X_train_scaled, y_train,\n",
    "    validation_data=(X_val_scaled, y_val),\n",
    "    epochs=15,\n",
    "    batch_size=512,\n",
    "    callbacks=[early_stop],\n",
    "    verbose=1\n",
    ")\n",
    "\n",
    "# Predict on validation set\n",
    "y_val_pred_nn = nn_model.predict(X_val_scaled)\n",
    "y_val_pred_nn_labels = (y_val_pred_nn > 0.5).astype(int)\n",
    "\n",
    "# Evaluate performance\n",
    "print(\"\\n🔍 Neural Network Validation Accuracy:\", accuracy_score(y_val, y_val_pred_nn_labels))\n",
    "print(\"\\n📊 Classification Report (Neural Net):\")\n",
    "print(classification_report(y_val, y_val_pred_nn_labels, digits=4))\n",
    "\n",
    "# Plot confusion matrix\n",
    "cm_nn = confusion_matrix(y_val, y_val_pred_nn_labels)\n",
    "plt.figure(figsize=(5,4))\n",
    "sns.heatmap(cm_nn, annot=True, fmt='d', cmap='Oranges', xticklabels=['Normal','Attack'], yticklabels=['Normal','Attack'])\n",
    "plt.title(\"Neural Net – Confusion Matrix\")\n",
    "plt.xlabel(\"Predicted\")\n",
    "plt.ylabel(\"Actual\")\n",
    "plt.tight_layout()\n",
    "plt.show()\n"
   ]
  },
  {
   "cell_type": "code",
   "execution_count": 53,
   "id": "21adb5a8",
   "metadata": {},
   "outputs": [
    {
     "name": "stdout",
     "output_type": "stream",
     "text": [
      "\n",
      "🚨 Poisoning 0% of training labels\n"
     ]
    },
    {
     "name": "stderr",
     "output_type": "stream",
     "text": [
      "d:\\Business\\Writing\\Writing\\Joan\\Edge-IIoT Project\\venv\\Lib\\site-packages\\keras\\src\\layers\\core\\dense.py:93: UserWarning: Do not pass an `input_shape`/`input_dim` argument to a layer. When using Sequential models, prefer using an `Input(shape)` object as the first layer in the model instead.\n",
      "  super().__init__(activity_regularizer=activity_regularizer, **kwargs)\n"
     ]
    },
    {
     "name": "stdout",
     "output_type": "stream",
     "text": [
      "\u001b[1m839/839\u001b[0m \u001b[32m━━━━━━━━━━━━━━━━━━━━\u001b[0m\u001b[37m\u001b[0m \u001b[1m2s\u001b[0m 2ms/step\n",
      "F1-Score (Attack class): 0.9629\n",
      "\n",
      "🚨 Poisoning 5% of training labels\n"
     ]
    },
    {
     "name": "stderr",
     "output_type": "stream",
     "text": [
      "d:\\Business\\Writing\\Writing\\Joan\\Edge-IIoT Project\\venv\\Lib\\site-packages\\keras\\src\\layers\\core\\dense.py:93: UserWarning: Do not pass an `input_shape`/`input_dim` argument to a layer. When using Sequential models, prefer using an `Input(shape)` object as the first layer in the model instead.\n",
      "  super().__init__(activity_regularizer=activity_regularizer, **kwargs)\n"
     ]
    },
    {
     "name": "stdout",
     "output_type": "stream",
     "text": [
      "\u001b[1m839/839\u001b[0m \u001b[32m━━━━━━━━━━━━━━━━━━━━\u001b[0m\u001b[37m\u001b[0m \u001b[1m2s\u001b[0m 3ms/step\n",
      "F1-Score (Attack class): 0.9624\n",
      "\n",
      "🚨 Poisoning 10% of training labels\n"
     ]
    },
    {
     "name": "stderr",
     "output_type": "stream",
     "text": [
      "d:\\Business\\Writing\\Writing\\Joan\\Edge-IIoT Project\\venv\\Lib\\site-packages\\keras\\src\\layers\\core\\dense.py:93: UserWarning: Do not pass an `input_shape`/`input_dim` argument to a layer. When using Sequential models, prefer using an `Input(shape)` object as the first layer in the model instead.\n",
      "  super().__init__(activity_regularizer=activity_regularizer, **kwargs)\n"
     ]
    },
    {
     "name": "stdout",
     "output_type": "stream",
     "text": [
      "\u001b[1m839/839\u001b[0m \u001b[32m━━━━━━━━━━━━━━━━━━━━\u001b[0m\u001b[37m\u001b[0m \u001b[1m2s\u001b[0m 2ms/step\n",
      "F1-Score (Attack class): 0.9453\n",
      "\n",
      "🚨 Poisoning 15% of training labels\n"
     ]
    },
    {
     "name": "stderr",
     "output_type": "stream",
     "text": [
      "d:\\Business\\Writing\\Writing\\Joan\\Edge-IIoT Project\\venv\\Lib\\site-packages\\keras\\src\\layers\\core\\dense.py:93: UserWarning: Do not pass an `input_shape`/`input_dim` argument to a layer. When using Sequential models, prefer using an `Input(shape)` object as the first layer in the model instead.\n",
      "  super().__init__(activity_regularizer=activity_regularizer, **kwargs)\n"
     ]
    },
    {
     "name": "stdout",
     "output_type": "stream",
     "text": [
      "\u001b[1m839/839\u001b[0m \u001b[32m━━━━━━━━━━━━━━━━━━━━\u001b[0m\u001b[37m\u001b[0m \u001b[1m1s\u001b[0m 2ms/step\n",
      "F1-Score (Attack class): 0.9494\n",
      "\n",
      "🚨 Poisoning 20% of training labels\n"
     ]
    },
    {
     "name": "stderr",
     "output_type": "stream",
     "text": [
      "d:\\Business\\Writing\\Writing\\Joan\\Edge-IIoT Project\\venv\\Lib\\site-packages\\keras\\src\\layers\\core\\dense.py:93: UserWarning: Do not pass an `input_shape`/`input_dim` argument to a layer. When using Sequential models, prefer using an `Input(shape)` object as the first layer in the model instead.\n",
      "  super().__init__(activity_regularizer=activity_regularizer, **kwargs)\n"
     ]
    },
    {
     "name": "stdout",
     "output_type": "stream",
     "text": [
      "\u001b[1m839/839\u001b[0m \u001b[32m━━━━━━━━━━━━━━━━━━━━\u001b[0m\u001b[37m\u001b[0m \u001b[1m1s\u001b[0m 2ms/step\n",
      "F1-Score (Attack class): 0.9483\n"
     ]
    }
   ],
   "source": [
    "# ===== Step B – Poisoning Simulation and Analysis =====\n",
    "import copy\n",
    "from sklearn.metrics import f1_score\n",
    "import matplotlib.pyplot as plt\n",
    "\n",
    "# Helper function: Flip labels in y_train\n",
    "def poison_labels(y, poison_rate=0.1, strategy='random'):\n",
    "    y_poisoned = y.copy()\n",
    "    n = len(y_poisoned)\n",
    "    flip_count = int(n * poison_rate)\n",
    "    \n",
    "    if strategy == 'random':\n",
    "        # Randomly pick indices to flip\n",
    "        indices_to_flip = np.random.choice(n, size=flip_count, replace=False)\n",
    "        for idx in indices_to_flip:\n",
    "            y_poisoned[idx] = 1 - y_poisoned[idx]  # flip 0 to 1 and vice versa\n",
    "    else:\n",
    "        raise NotImplementedError(\"Only 'random' strategy implemented so far.\")\n",
    "    \n",
    "    return y_poisoned\n",
    "\n",
    "# Store performance metrics\n",
    "poison_rates = [0.0, 0.05, 0.1, 0.15, 0.2]\n",
    "f1_scores = []\n",
    "\n",
    "for rate in poison_rates:\n",
    "    print(f\"\\n🚨 Poisoning {int(rate*100)}% of training labels\")\n",
    "    \n",
    "    # Poisoned copy of training labels\n",
    "    y_train_poisoned = poison_labels(y_train.values, poison_rate=rate)\n",
    "    \n",
    "    # Define fresh neural network model\n",
    "    poisoned_nn = Sequential([\n",
    "        Dense(64, activation='relu', input_shape=(X_train_scaled.shape[1],)),\n",
    "        Dense(32, activation='relu'),\n",
    "        Dense(1, activation='sigmoid')\n",
    "    ])\n",
    "    \n",
    "    poisoned_nn.compile(loss='binary_crossentropy', optimizer='adam', metrics=['accuracy'])\n",
    "    \n",
    "    # Train the model with poisoned labels\n",
    "    poisoned_nn.fit(X_train_scaled, y_train_poisoned, validation_data=(X_val_scaled, y_val),\n",
    "                    epochs=10, batch_size=512, verbose=0)\n",
    "    \n",
    "    # Evaluate on clean validation set\n",
    "    y_val_pred = (poisoned_nn.predict(X_val_scaled) > 0.5).astype(int)\n",
    "    f1 = f1_score(y_val, y_val_pred)\n",
    "    \n",
    "    print(f\"F1-Score (Attack class): {f1:.4f}\")\n",
    "    f1_scores.append(f1)\n"
   ]
  },
  {
   "cell_type": "code",
   "execution_count": 54,
   "id": "b2247cec",
   "metadata": {},
   "outputs": [
    {
     "data": {
      "image/png": "[encoded data removed]",
      "text/plain": [
       "<Figure size 800x500 with 1 Axes>"
      ]
     },
     "metadata": {},
     "output_type": "display_data"
    }
   ],
   "source": [
    "#  ===== -- Plot degradation in F1-score -- =====\n",
    "plt.figure(figsize=(8,5))\n",
    "plt.plot([int(r*100) for r in poison_rates], f1_scores, marker='o', color='crimson')\n",
    "plt.title('Impact of Label Poisoning on F1-Score (Attack Class)')\n",
    "plt.xlabel('Poisoning Percentage (%)')\n",
    "plt.ylabel('F1-Score on Validation Set')\n",
    "plt.grid(True)\n",
    "plt.xticks([0, 5, 10, 15, 20])\n",
    "plt.ylim(0.7, 1.01)\n",
    "plt.tight_layout()\n",
    "plt.show()\n"
   ]
  },
  {
   "cell_type": "code",
   "execution_count": null,
   "id": "74ed14b4",
   "metadata": {},
   "outputs": [],
   "source": []
  }
 ],
 "metadata": {
  "kernelspec": {
   "display_name": "venv",
   "language": "python",
   "name": "python3"
  },
  "language_info": {
   "codemirror_mode": {
    "name": "ipython",
    "version": 3
   },
   "file_extension": ".py",
   "mimetype": "text/x-python",
   "name": "python",
   "nbconvert_exporter": "python",
   "pygments_lexer": "ipython3",
   "version": "3.12.10"
  }
 },
 "nbformat": 4,
 "nbformat_minor": 5
}
